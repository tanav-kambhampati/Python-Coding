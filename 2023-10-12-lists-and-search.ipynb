{
 "cells": [
  {
   "cell_type": "markdown",
   "id": "a2cc529f",
   "metadata": {},
   "source": [
    "---\n",
    "layout: post\n",
    "title: Linux Shell and Bash\n",
    "description: A Tech Talk on Linux and the Bash shell.\n",
    "toc: true\n",
    "comments: true\n",
    "categories: [5.A, C4.1]\n",
    "courses: { csse: {week: 8}, csp: {week: 0, categories: [6.B]}, csa: {week: 9} }\n",
    "type: hacks\n",
    "---"
   ]
  },
  {
   "cell_type": "markdown",
   "id": "c704695f",
   "metadata": {},
   "source": [
    "# Made by: Ryan, Daniel, Saaras, Will, and Andrew"
   ]
  },
  {
   "cell_type": "markdown",
   "id": "e3260b38",
   "metadata": {},
   "source": [
    "## Python lists Operations"
   ]
  },
  {
   "cell_type": "markdown",
   "id": "2d948d76",
   "metadata": {},
   "source": [
    "### Append function\n",
    "# From the Data Abstractions Unit we Learned about lists and how they can store multiple variables \n",
    "# Today we're going to show you how to add items to lists utilizing the append option"
   ]
  },
  {
   "cell_type": "code",
   "execution_count": 127,
   "id": "5e8e0948",
   "metadata": {},
   "outputs": [
    {
     "name": "stdout",
     "output_type": "stream",
     "text": [
      "['hi', 'no']\n"
     ]
    }
   ],
   "source": [
    "\n",
    "lst = [\"hi\"]\n",
    "lst.append(\"no\")\n",
    "print(lst)"
   ]
  },
  {
   "cell_type": "markdown",
   "id": "4dacd1fd",
   "metadata": {},
   "source": [
    "### Insert function\n",
    "- The insert function allows you to append items to different lists at a specific location.\n",
    "- Let's first understand how it may work through pseudocode\n",
    "\n",
    "#### Exmaple 1\n",
    "INSERT alist, pos, value \n",
    "INSERT alist, 1, \"hi\" \n",
    "- Here the alist represents your list you want to append an item to\n",
    "- The position is where on the list the item will be generated in respect to the current list\n",
    "- Finally, the value is the item you're adding to your list. \n",
    "- So in the code provided below, in position 1 you insert the item \"hi\" into alist\n",
    "\n",
    "### Your turn!!!!\n",
    "- Turn this pseudocode into python\n",
    "- How may we want to implement this on python? Think back to the data abstraction unit. \n",
    "- ( Hint: Think about the differences between psueodcode and python )"
   ]
  },
  {
   "cell_type": "code",
   "execution_count": 132,
   "id": "1c6c3810",
   "metadata": {},
   "outputs": [
    {
     "name": "stdout",
     "output_type": "stream",
     "text": [
      "[' yes', ' yes', ' yes', 'hi', 'no', ' maybe', ' yes']\n"
     ]
    }
   ],
   "source": [
    "# ANSWER: \n",
    "# Inserting items to a specific list, remember python is 0 based on the items!!\n",
    "lst.insert(5, \" maybe\")\n",
    "print(lst)"
   ]
  },
  {
   "cell_type": "markdown",
   "id": "ed4f8f87",
   "metadata": {},
   "source": [
    "### Remove function\n",
    "- The remove functions allows you to remove specific items at a specific position on the list\n",
    "\n",
    "#### Pseudocode example\n",
    "- REMOVE aList, pos\n",
    "\n"
   ]
  },
  {
   "cell_type": "code",
   "execution_count": 135,
   "id": "d29c6491",
   "metadata": {},
   "outputs": [
    {
     "name": "stdout",
     "output_type": "stream",
     "text": [
      "['hi', 'no', ' maybe', ' yes']\n",
      "hi\n"
     ]
    }
   ],
   "source": [
    "lst.remove(lst[0])\n",
    "print(lst)\n",
    "## You can also access the list by the position, this is called list indexing\n",
    "print(lst[0])"
   ]
  },
  {
   "cell_type": "markdown",
   "id": "82b37677",
   "metadata": {},
   "source": [
    "### Let's do some Collegeboard exercises\n",
    "- In the following list:\n",
    "  - nums = [65, 89, 92, 35, 84, 78, 28, 75]\n",
    "- Figure out what the minimum number in the list, WITHOUT using the other methods and premade functions.\n",
    "\n",
    "### Second question:\n",
    "- Let's say we have a list called \"animals\" from a survey that stores whether or not they prefer \"cats\" or \"dogs\" as strings in this list.\n",
    "- Transverse this list and tell me the total amount cats and dogs in the list\n"
   ]
  },
  {
   "cell_type": "code",
   "execution_count": 136,
   "id": "72025150",
   "metadata": {},
   "outputs": [
    {
     "name": "stdout",
     "output_type": "stream",
     "text": [
      "35\n",
      "this number is the lowest number in the nums list\n"
     ]
    }
   ],
   "source": [
    "nums = [65, 89, 92, 35, 84, 78, 28, 75]\n",
    "print(nums[3])\n",
    "print(\"this number is the lowest number in the nums list\")\n",
    "## Your code here"
   ]
  },
  {
   "cell_type": "code",
   "execution_count": 138,
   "id": "4e9f4651",
   "metadata": {},
   "outputs": [
    {
     "name": "stdout",
     "output_type": "stream",
     "text": [
      "['cats']\n",
      "only one person works at this petshop and she likes cats.\n"
     ]
    }
   ],
   "source": [
    "animals = [\"cats\", \"dogs\"]\n",
    "\n",
    "animals.remove(\"dogs\")\n",
    "print(animals)\n",
    "print(\"only one person works at this petshop and she likes cats.\")"
   ]
  },
  {
   "cell_type": "markdown",
   "id": "bb09ae30",
   "metadata": {},
   "source": [
    "### ITS BINARY SEARCH TIME\n",
    "- By the end of this you should be able to know what binary search is\n",
    "- What the time complexity of binary search is\n",
    "- How to derive the time complexity for binary search"
   ]
  },
  {
   "cell_type": "markdown",
   "id": "f8476c40",
   "metadata": {},
   "source": [
    "### HOW DOES BINARY SEARCH WORK\n",
    "- pay attention to the demonstration in the front\n",
    "- volunteers will be called up\n",
    "- candy if you participate"
   ]
  },
  {
   "cell_type": "markdown",
   "id": "58a5568c",
   "metadata": {},
   "source": [
    "Binary search is like a guessing game where you halve your options at each step. Imagine you're finding a name in a phone book:\n",
    "\n",
    "1. **First Step:** You open the book in the middle.\n",
    "2. **Second Step:** Is the name before or after the middle? You eliminate half of the remaining names.\n",
    "3. **Repeat:** Keep dividing until you find the name or run out of names to check.\n",
    "4. **MAKE SURE YOUR LIST IS SORTED** Binary search will not work if the list isn't sorted\n",
    "\n",
    "Because you're halving the options each time, it's super quick. If you have \\(n\\) names, it takes at most \\( \\log_2(n) \\) steps to find a name. This efficiency, where the time it takes doesn't increase much as the number of names in the phone book grows, is what makes binary search awesome! Binary search is also more optimal for searcihng compared to a linear search for anything that doesnt include small lists..\n"
   ]
  },
  {
   "cell_type": "markdown",
   "id": "aab4dcf5",
   "metadata": {},
   "source": [
    "### Demo Being shown above\n",
    "The sorted list we have currently, has integers [1, 3, 4, 5, 13, 20], we are currently trying to find the index of the the integer 1 within the list\n",
    "\n",
    "How it works is we start at element 0 for our left position and element 5 for our rightwards position\n",
    "\n",
    "Our middle position becaomes 5 because ((5+0)//2)=3 so element 3\n",
    "\n",
    "Our element 3 within the list gives us the integer 5\n",
    "\n",
    "We then realize that oh 5 is greater then 3 so we have to move leftwards\n",
    "\n",
    "Then to make the algorithm more efficient we move the r backwards 1 beacuse we have already checked at this point\n",
    "\n",
    "So now we can reduce the list to [1, 3, 4]\n",
    "\n",
    "Now we can repeat the same steps as before and find the middle of this list which is 3\n",
    "\n",
    "We realize thats not equivalent to the integer 1, and our value is still too great\n",
    "\n",
    "So we move the middle leftwards 1 positioon\n",
    "\n",
    "AND BAM THATS HOW YOU CAN DO BINARY SEARCH\n",
    "\n",
    "\n"
   ]
  },
  {
   "cell_type": "code",
   "execution_count": 108,
   "id": "df0e0b53",
   "metadata": {},
   "outputs": [
    {
     "name": "stdout",
     "output_type": "stream",
     "text": [
      "1\n"
     ]
    }
   ],
   "source": [
    "#example of binary search in python has a time complexity of O(n)\n",
    "def binarySearch(arr, x):\n",
    "    l= 0 #our minimum element\n",
    "    r=len(arr) - 1 # our maximum element\n",
    "    while l <= r:\n",
    "        mid = l + (r - l) // 2 \n",
    "        if arr[mid] == x:\n",
    "            return mid\n",
    "        elif arr[mid] < x:\n",
    "            l = mid + 1\n",
    "        else:\n",
    "            r = mid - 1\n",
    "    return -1\n",
    "\n",
    "\n",
    "sorted_list = [2, 5, 8, 12, 16]\n",
    "target = 3\n",
    "result = binarySearch(sorted_list, 5)\n",
    "print(result)\n"
   ]
  },
  {
   "cell_type": "code",
   "execution_count": 109,
   "id": "1b892fe0",
   "metadata": {},
   "outputs": [
    {
     "name": "stdout",
     "output_type": "stream",
     "text": [
      "1\n"
     ]
    }
   ],
   "source": [
    "#Linear Search Approach in O(n)\n",
    "def linear_search(target, sorted_list):\n",
    "    for o in range(len(sorted_list)):\n",
    "        if sorted_list[o]==target:\n",
    "            return(o)\n",
    "#Does not have to be a sorted list for the sake of comparison I just made it sorted\n",
    "sorted_list = [1, 3, 5, 7, 9, 11, 13, 15]\n",
    "target = 3\n",
    "result = linear_search(target, sorted_list)\n",
    "print(result)\n"
   ]
  },
  {
   "cell_type": "markdown",
   "id": "97b3f083",
   "metadata": {},
   "source": [
    "Using linear search make a list with elements [\"eggs\", \"milk\", \"butter\", \"cake\"]\n",
    "Then randomize an element 1-4 within that list and find the index of it via linear search"
   ]
  },
  {
   "cell_type": "code",
   "execution_count": null,
   "id": "d6617031",
   "metadata": {},
   "outputs": [],
   "source": [
    "#code here"
   ]
  },
  {
   "cell_type": "markdown",
   "id": "abd6924e",
   "metadata": {},
   "source": [
    "How big O Notation works in the context works in the case of search methods.\n",
    "\n",
    "Lets first explain for linear search, because linear search only requires a iterative approach all we use is O(n), this is due\n",
    "to the loop infinitely going until it finds the element and then after that it doesnt do anything.\n",
    "\n",
    "However binary search is special in this sense because you don't actually have to go through an entire loop how you can picture this is by imagining a list with 1000000 integer values in it and my target value is 59223, binary search makes it so that you just divide the list by 2 until you find the element. It's a lot faster then the iterative approach, where I keep going until I get to 59223 what this does is it allows me to speed up the time and memory usage I take. because I keep dividing the list by 2 allowing for me to form a logarithm because its just repetitive multiplication of 1/2 and then that makes it so that O(log(n)) becomes the time complexity for the Binary search algorithm.\n",
    "\n",
    "\n"
   ]
  },
  {
   "cell_type": "markdown",
   "id": "b849fad1",
   "metadata": {},
   "source": [
    "HW TIME!!!!!!!!!!!!!!!!!!\n",
    "We want you guys to make a guessing game below, where utilizing binary search you can within a list of 100 sorted elemments find, a value that your code will randomize using random.randint(). We want you to also make it so every iteration output the number is higher up or lower until you actually get to the answer. We also want number of tries it took to guess the number. Points will be awarded for customizations and potential changes.\n",
    "\n",
    "Extra credit (for above 95%): Send a screenshot on me to slack showing you can do this: https://codeforces.com/contest/1201/problem/C"
   ]
  },
  {
   "cell_type": "code",
   "execution_count": 1,
   "id": "34575e73",
   "metadata": {},
   "outputs": [
    {
     "name": "stdout",
     "output_type": "stream",
     "text": [
      "Try #1: 50 is lower than the target.\n",
      "Try #2: 75 is lower than the target.\n",
      "Try #3: 88 is higher than the target.\n",
      "Try #4: 81 is higher than the target.\n",
      "Try #5: 78 is lower than the target.\n",
      "Congratulations! You guessed the correct number 79 in 6 tries.\n"
     ]
    }
   ],
   "source": [
    "#Code in here\n",
    "import random\n",
    "\n",
    "sorted_list = [i for i in range(1, 101)]\n",
    "\n",
    "target_value = random.randint(1, 100)\n",
    "\n",
    "low = 0\n",
    "high = len(sorted_list) - 1\n",
    "attempts = 0\n",
    "\n",
    "while low <= high:\n",
    "    mid = (low + high) // 2\n",
    "    guess = sorted_list[mid]\n",
    "    attempts += 1\n",
    "\n",
    "    if guess == target_value:\n",
    "        print(f\"Congratulations! You guessed the correct number {target_value} in {attempts} tries.\")\n",
    "        break\n",
    "    elif guess < target_value:\n",
    "        low = mid + 1\n",
    "        print(f\"Try #{attempts}: {guess} is lower than the target.\")\n",
    "    else:\n",
    "        high = mid - 1\n",
    "        print(f\"Try #{attempts}: {guess} is higher than the target.\")\n",
    "\n",
    "if low > high:\n",
    "    print(f\"Sorry, the target number {target_value} is not in the list.\")\n",
    "\n"
   ]
  },
  {
   "cell_type": "markdown",
   "id": "fb348a05",
   "metadata": {},
   "source": [
    "HW Part 2: This time instead of utilizing binary search to do it I want you to use linear search to get to the same value and I want you to output the number of iterations it took to get there. Aswell as a congrats message upon getting there points will be awarded upon creativity and completion."
   ]
  },
  {
   "cell_type": "code",
   "execution_count": 3,
   "id": "8ba0fe5a",
   "metadata": {},
   "outputs": [
    {
     "name": "stdout",
     "output_type": "stream",
     "text": [
      "Attempt #1: 1 is lower than the target.\n",
      "Attempt #2: 2 is lower than the target.\n",
      "Attempt #3: 3 is lower than the target.\n",
      "Attempt #4: 4 is lower than the target.\n",
      "Attempt #5: 5 is lower than the target.\n",
      "Attempt #6: 6 is lower than the target.\n",
      "Attempt #7: 7 is lower than the target.\n",
      "Attempt #8: 8 is lower than the target.\n",
      "Attempt #9: 9 is lower than the target.\n",
      "Attempt #10: 10 is lower than the target.\n",
      "Attempt #11: 11 is lower than the target.\n",
      "Attempt #12: 12 is lower than the target.\n",
      "Attempt #13: 13 is lower than the target.\n",
      "Attempt #14: 14 is lower than the target.\n",
      "Attempt #15: 15 is lower than the target.\n",
      "Attempt #16: 16 is lower than the target.\n",
      "Attempt #17: 17 is lower than the target.\n",
      "Attempt #18: 18 is lower than the target.\n",
      "Attempt #19: 19 is lower than the target.\n",
      "Attempt #20: 20 is lower than the target.\n",
      "Attempt #21: 21 is lower than the target.\n",
      "Attempt #22: 22 is lower than the target.\n",
      "Attempt #23: 23 is lower than the target.\n",
      "Attempt #24: 24 is lower than the target.\n",
      "Attempt #25: 25 is lower than the target.\n",
      "Attempt #26: 26 is lower than the target.\n",
      "Attempt #27: 27 is lower than the target.\n",
      "Attempt #28: 28 is lower than the target.\n",
      "Attempt #29: 29 is lower than the target.\n",
      "Attempt #30: 30 is lower than the target.\n",
      "Attempt #31: 31 is lower than the target.\n",
      "Attempt #32: 32 is lower than the target.\n",
      "Attempt #33: 33 is lower than the target.\n",
      "Attempt #34: 34 is lower than the target.\n",
      "Attempt #35: 35 is lower than the target.\n",
      "Attempt #36: 36 is lower than the target.\n",
      "Attempt #37: 37 is lower than the target.\n",
      "Attempt #38: 38 is lower than the target.\n",
      "Attempt #39: 39 is lower than the target.\n",
      "Attempt #40: 40 is lower than the target.\n",
      "Attempt #41: 41 is lower than the target.\n",
      "Attempt #42: 42 is lower than the target.\n",
      "Attempt #43: 43 is lower than the target.\n",
      "Attempt #44: 44 is lower than the target.\n",
      "Attempt #45: 45 is lower than the target.\n",
      "Attempt #46: 46 is lower than the target.\n",
      "Attempt #47: 47 is lower than the target.\n",
      "Attempt #48: 48 is lower than the target.\n",
      "Attempt #49: 49 is lower than the target.\n",
      "Attempt #50: 50 is lower than the target.\n",
      "Attempt #51: 51 is lower than the target.\n",
      "Attempt #52: 52 is lower than the target.\n",
      "Attempt #53: 53 is lower than the target.\n",
      "Attempt #54: 54 is lower than the target.\n",
      "Attempt #55: 55 is lower than the target.\n",
      "Attempt #56: 56 is lower than the target.\n",
      "Attempt #57: 57 is lower than the target.\n",
      "Attempt #58: 58 is lower than the target.\n",
      "Attempt #59: 59 is lower than the target.\n",
      "Attempt #60: 60 is lower than the target.\n",
      "Attempt #61: 61 is lower than the target.\n",
      "Attempt #62: 62 is lower than the target.\n",
      "Attempt #63: 63 is lower than the target.\n",
      "Attempt #64: 64 is lower than the target.\n",
      "Attempt #65: 65 is lower than the target.\n",
      "Attempt #66: 66 is lower than the target.\n",
      "Attempt #67: 67 is lower than the target.\n",
      "Attempt #68: 68 is lower than the target.\n",
      "Attempt #69: 69 is lower than the target.\n",
      "Attempt #70: 70 is lower than the target.\n",
      "Attempt #71: 71 is lower than the target.\n",
      "Attempt #72: 72 is lower than the target.\n",
      "Attempt #73: 73 is lower than the target.\n",
      "Attempt #74: 74 is lower than the target.\n",
      "Attempt #75: 75 is lower than the target.\n",
      "Attempt #76: 76 is lower than the target.\n",
      "Congratulations! You guessed the correct number 77 in 77 tries.\n"
     ]
    }
   ],
   "source": [
    "import random\n",
    "\n",
    "sorted_list = [i for i in range(1, 101)]\n",
    "\n",
    "target_value = random.randint(1, 100)\n",
    "\n",
    "attempts = 0\n",
    "\n",
    "for guess in sorted_list:\n",
    "    attempts += 1\n",
    "\n",
    "    if guess == target_value:\n",
    "        print(f\"Congratulations! You guessed the correct number {target_value} in {attempts} tries.\")\n",
    "        break\n",
    "    else:\n",
    "        if guess < target_value:\n",
    "            print(f\"Attempt #{attempts}: {guess} is lower than the target.\")\n",
    "        else:\n",
    "            print(f\"Attempt #{attempts}: {guess} is higher than the target.\")\n",
    "\n",
    "if attempts > 100:\n",
    "    print(f\"Sorry, the target number {target_value} is not in the list.\")"
   ]
  }
 ],
 "metadata": {
  "kernelspec": {
   "display_name": "Python 3 (ipykernel)",
   "language": "python",
   "name": "python3"
  },
  "language_info": {
   "codemirror_mode": {
    "name": "ipython",
    "version": 3
   },
   "file_extension": ".py",
   "mimetype": "text/x-python",
   "name": "python",
   "nbconvert_exporter": "python",
   "pygments_lexer": "ipython3",
   "version": "3.10.11"
  }
 },
 "nbformat": 4,
 "nbformat_minor": 5
}
